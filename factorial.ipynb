{
 "cells": [
  {
   "cell_type": "code",
   "execution_count": 1,
   "metadata": {
    "collapsed": false
   },
   "outputs": [
    {
     "ename": "SyntaxError",
     "evalue": "invalid syntax (<ipython-input-1-51ed99012530>, line 3)",
     "output_type": "error",
     "traceback": [
      "\u001b[1;36m  File \u001b[1;32m\"<ipython-input-1-51ed99012530>\"\u001b[1;36m, line \u001b[1;32m3\u001b[0m\n\u001b[1;33m    *(Definition, for, \"factorial\")\u001b[0m\n\u001b[1;37m    ^\u001b[0m\n\u001b[1;31mSyntaxError\u001b[0m\u001b[1;31m:\u001b[0m invalid syntax\n"
     ]
    }
   ],
   "source": [
    "#include \"factorial.h\"\n",
    "\n",
    "/* Definition for \"factorial\"\n",
    " * Note: this must match the type specified in the header file above\n",
    " */\n",
    "int factorial(int n) {\n",
    "    /* By convention in C, all variables must by type defined at the top\n",
    "     * of each function */\n",
    "    int fac = n;\n",
    "    \n",
    "    while (n > 0) {\n",
    "        /* var-- reads the contents of an integer variable, then decrements\n",
    "           --var decrements the contents of an integer variable, then returns\n",
    "         */\n",
    "        n--;\n",
    "        // a *= b is equivalent to a = a * b\n",
    "        fac *= n;\n",
    "    }\n",
    "    return fac;\n",
    "}\n"
   ]
  },
  {
   "cell_type": "markdown",
   "metadata": {},
   "source": [
    "### Question 4\n",
    "\n",
    "Takes integer n, goes through a while loop making sure that integer n is greater than 0. If so, it subtracts 1 from n and multiplies that number to the original n. This loop keeps going until n is less than 0. \n",
    "\n",
    "One problem is that at n=1, n will enter the loop and 1-1=0 so 0 is multipied to the factorial. To fix this, we need to change the while loop to n>1.\n",
    "\n",
    "Another problem is that the passed in variable \"n\" is being modified and it is general practice to leave the passed in variable unchanged. A solution to that would be to assign a different variable to n and have that be the variable being changed in the while loop.\n",
    "\n",
    "Another problem is if 0 is inputted as n then it will return the value 0, but we need it to return 1. A solution is inputing an if statement that states that if 0 is passed in, the value 1 will be returned. "
   ]
  },
  {
   "cell_type": "code",
   "execution_count": null,
   "metadata": {
    "collapsed": true
   },
   "outputs": [],
   "source": []
  }
 ],
 "metadata": {
  "kernelspec": {
   "display_name": "Python 2 (SageMath)",
   "language": "python",
   "name": "python2"
  },
  "language_info": {
   "codemirror_mode": {
    "name": "ipython",
    "version": 2
   },
   "file_extension": ".py",
   "mimetype": "text/x-python",
   "name": "python",
   "nbconvert_exporter": "python",
   "pygments_lexer": "ipython2",
   "version": "2.7.10"
  }
 },
 "nbformat": 4,
 "nbformat_minor": 0
}
