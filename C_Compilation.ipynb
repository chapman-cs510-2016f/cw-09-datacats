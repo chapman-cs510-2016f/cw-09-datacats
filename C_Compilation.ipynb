{
 "cells": [
  {
   "cell_type": "markdown",
   "metadata": {},
   "source": [
    "# Testing makefile \n",
    "#### Simrath & Andrew\n",
    "\n",
    "After applying maketest in the command line, our test failed. "
   ]
  },
  {
   "cell_type": "code",
   "execution_count": 1,
   "metadata": {
    "collapsed": false
   },
   "outputs": [
    {
     "ename": "SyntaxError",
     "evalue": "invalid syntax (<ipython-input-1-825554ffaa75>, line 1)",
     "output_type": "error",
     "traceback": [
      "\u001b[1;36m  File \u001b[1;32m\"<ipython-input-1-825554ffaa75>\"\u001b[1;36m, line \u001b[1;32m1\u001b[0m\n\u001b[1;33m    make -C test/ test\u001b[0m\n\u001b[1;37m               ^\u001b[0m\n\u001b[1;31mSyntaxError\u001b[0m\u001b[1;31m:\u001b[0m invalid syntax\n"
     ]
    }
   ],
   "source": [
    "make -C test/ test\n",
    "make[1]: Entering directory '/projects/bd11f6d3-3c63-4269-8610-06fa4656c6d5/Classwork/cw-09-datacats/test'\n",
    "cc    -c -o ../src/factorial.o ../src/factorial.c\n",
    "cc     test_factorial.c ../src/factorial.o   -o test_factorial\n",
    "./test_factorial\n",
    "error, factorial(5) != 120\n",
    "Tests run: 1\n",
    "Makefile:11: recipe for target 'test' failed\n",
    "make[1]: *** [test] Error 1\n",
    "make[1]: Leaving directory '/projects/bd11f6d3-3c63-4269-8610-06fa4656c6d5/Classwork/cw-09-datacats/test'\n",
    "Makefile:16: recipe for target 'test' failed\n",
    "make: *** [test] Error 2"
   ]
  },
  {
   "cell_type": "markdown",
   "metadata": {},
   "source": [
    "### Question 3\n",
    "    \n",
    "    * Describe what the purpose of a Makefile is\n",
    "        *A makefile is made to update a target to the most recent version of the source. It contains rules for creating a target/targets and to update the target with the least amount of work possible. \n",
    "    *Describe how the code is organized here. Why is this a reasonable structure?\\\n",
    "        * The first thing that the code does is tell makefile that clean is not a actual file, so that it can later be called without an error. \n",
    "    *Describe what a header file is.\n",
    "        *It defines the functions type and any argument that it will take in and put it in a header file. This header file is called in the \".c\" file at the beginning and is a conveniant way to organize the code.\n",
    "    *Describe what a source file is.\n",
    "        *The source file is where you define your functions and specify exactly what the function is doing. \n",
    "    *Describe what an object file is.\n",
    "        *An object file is the compiled file of both the header and source code together. \n",
    "    *Describe what compiling is.\n",
    "        *Compiling is putting the source code and header together in one code into the object file. \n",
    "    *Describe what linking is.\n",
    "        *Takes object file and anything dependent on it and links them together and turns it into a executable code. \n"
   ]
  }
 ],
 "metadata": {
  "kernelspec": {
   "display_name": "Python 2 (SageMath)",
   "language": "python",
   "name": "python2"
  },
  "language_info": {
   "codemirror_mode": {
    "name": "ipython",
    "version": 2
   },
   "file_extension": ".py",
   "mimetype": "text/x-python",
   "name": "python",
   "nbconvert_exporter": "python",
   "pygments_lexer": "ipython2",
   "version": "2.7.10"
  }
 },
 "nbformat": 4,
 "nbformat_minor": 0
}
